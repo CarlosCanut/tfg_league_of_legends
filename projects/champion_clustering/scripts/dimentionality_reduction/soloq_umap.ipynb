{
 "cells": [
  {
   "cell_type": "code",
   "execution_count": 11,
   "metadata": {},
   "outputs": [],
   "source": [
    "import numpy as np\n",
    "from sklearn.datasets import load_digits\n",
    "from sklearn.model_selection import train_test_split\n",
    "from sklearn.preprocessing import StandardScaler\n",
    "import matplotlib.pyplot as plt\n",
    "import seaborn as sns\n",
    "import pandas as pd\n",
    "import umap\n",
    "%matplotlib inline"
   ]
  },
  {
   "cell_type": "code",
   "execution_count": 12,
   "metadata": {},
   "outputs": [],
   "source": [
    "sns.set(style='white', context='notebook', rc={'figure.figsize':(14,10)})"
   ]
  },
  {
   "cell_type": "code",
   "execution_count": 13,
   "metadata": {},
   "outputs": [],
   "source": [
    "soloq = pd.read_csv(\"../../data/soloq/Europe_stats.csv\")"
   ]
  },
  {
   "cell_type": "code",
   "execution_count": 63,
   "metadata": {},
   "outputs": [
    {
     "name": "stdout",
     "output_type": "stream",
     "text": [
      "(148645, 128)\n",
      "(104229, 128)\n"
     ]
    }
   ],
   "source": [
    "soloq = soloq.dropna()\n",
    "# list of champions with more than 1000 games played\n",
    "top_champs = [i for i, x in soloq.championName.value_counts().to_dict().items() if x > 1000]\n",
    "\n",
    "print(soloq.shape)\n",
    "soloq = soloq[soloq['championName'].isin(top_champs)]\n",
    "print(soloq.shape)\n"
   ]
  },
  {
   "cell_type": "code",
   "execution_count": null,
   "metadata": {},
   "outputs": [],
   "source": [
    "# KEEP CLEANING THE DATASET AND CLEAN THE COMPETITIVE ONE TOO"
   ]
  },
  {
   "cell_type": "code",
   "execution_count": 14,
   "metadata": {},
   "outputs": [],
   "source": [
    "soloq_data = soloq[\n",
    "    [\n",
    "        \"gameDuration\",\n",
    "        \"win\",\n",
    "        \"champExperience\",\n",
    "        \"assists\",\n",
    "        \"baronKills\",\n",
    "        \"bountyLevel\",\n",
    "        \"champLevel\",\n",
    "        \"consumablesPurchased\",\n",
    "        \"damageDealtToBuildings\",\n",
    "        \"damageDealtToObjectives\",\n",
    "        \"damageDealtToTurrets\",\n",
    "        \"damageSelfMitigated\",\n",
    "        \"deaths\",\n",
    "        \"detectorWardsPlaced\",\n",
    "        \"doubleKills\",\n",
    "        \"dragonKills\",\n",
    "        \"firstBloodAssist\",\n",
    "        \"firstBloodKill\",\n",
    "        \"firstTowerAssist\",\n",
    "        \"firstTowerKill\",\n",
    "        \"goldEarned\",\n",
    "        \"goldSpent\",\n",
    "        \"inhibitorKills\",\n",
    "        \"inhibitorTakedowns\",\n",
    "        \"inhibitorsLost\",\n",
    "        \"itemsPurchased\",\n",
    "        \"killingSprees\",\n",
    "        \"kills\",\n",
    "        \"largestCriticalStrike\",\n",
    "        \"largestKillingSpree\",\n",
    "        \"largestMultiKill\",\n",
    "        \"longestTimeSpentLiving\",\n",
    "        \"magicDamageDealt\",\n",
    "        \"magicDamageDealtToChampions\",\n",
    "        \"magicDamageTaken\",\n",
    "        \"neutralMinionsKilled\",\n",
    "        \"nexusKills\",\n",
    "        \"nexusLost\",\n",
    "        \"nexusTakedowns\",\n",
    "        \"objectivesStolen\",\n",
    "        \"objectivesStolenAssists\",\n",
    "        \"pentaKills\",\n",
    "        \"physicalDamageDealt\",\n",
    "        \"physicalDamageDealtToChampions\",\n",
    "        \"physicalDamageTaken\",\n",
    "        \"quadraKills\",\n",
    "        \"sightWardsBoughtInGame\",\n",
    "        \"spell1Casts\",\n",
    "        \"spell2Casts\",\n",
    "        \"spell3Casts\",\n",
    "        \"spell4Casts\",\n",
    "        \"summoner1Casts\",\n",
    "        \"summoner2Casts\",\n",
    "        \"timeCCingOthers\",\n",
    "        \"timePlayed\",\n",
    "        \"totalDamageDealt\",\n",
    "        \"totalDamageDealtToChampions\",\n",
    "        \"totalDamageShieldedOnTeammates\",\n",
    "        \"totalDamageTaken\",\n",
    "        \"totalHeal\",\n",
    "        \"totalHealsOnTeammates\",\n",
    "        \"totalMinionsKilled\",\n",
    "        \"totalTimeCCDealt\",\n",
    "        \"totalTimeSpentDead\",\n",
    "        \"totalUnitsHealed\",\n",
    "        \"tripleKills\",\n",
    "        \"trueDamageDealt\",\n",
    "        \"trueDamageDealtToChampions\",\n",
    "        \"trueDamageTaken\",\n",
    "        \"turretKills\",\n",
    "        \"turretTakedowns\",\n",
    "        \"turretsLost\",\n",
    "        \"visionScore\",\n",
    "        \"visionWardsBoughtInGame\",\n",
    "        \"wardsKilled\",\n",
    "        \"wardsPlaced\",\n",
    "        \"dmg_per_gold\",\n",
    "        \"dmg_per_minute_diff\",\n",
    "        \"gold_share\",\n",
    "        \"gold_earned_per_min\",\n",
    "        \"kill_share\",\n",
    "        \"kill_participation\",\n",
    "        \"xp_diff\",\n",
    "        \"xp_diff_per_min\",\n",
    "        \"gold_10k_time\",\n",
    "        \"cs_diff_at_15\",\n",
    "        \"dmg_per_gold_15\",\n",
    "        \"dmg_per_minute_diff_15\",\n",
    "        \"gold_diff_15\",\n",
    "        \"xp_per_min_3_15\",\n",
    "        \"gold_xp_diff_15\",\n",
    "        \"lane_proximity\",\n",
    "        \"jungle_proximity\",\n",
    "        \"percent_mid_lane\",\n",
    "        \"percent_side_lanes\",\n",
    "        \"forward_percentage\",\n",
    "        \"counter_jungle_time_percentage\",\n",
    "    ]\n",
    "].values\n",
    "scaled_soloq_data = StandardScaler().fit_transform(soloq_data)"
   ]
  },
  {
   "cell_type": "code",
   "execution_count": 15,
   "metadata": {},
   "outputs": [
    {
     "data": {
      "text/plain": [
       "(148645, 2)"
      ]
     },
     "execution_count": 15,
     "metadata": {},
     "output_type": "execute_result"
    }
   ],
   "source": [
    "reducer = umap.UMAP()\n",
    "embedding = reducer.fit_transform(scaled_soloq_data)\n",
    "embedding.shape"
   ]
  },
  {
   "cell_type": "code",
   "execution_count": 20,
   "metadata": {},
   "outputs": [
    {
     "data": {
      "text/plain": [
       "array(['Gnar', 'Kindred', 'Kassadin', 'Jhin', 'Bard', 'Kennen', 'Akali',\n",
       "       'Khazix', 'Jinx', 'Senna', 'Ahri', 'Viktor', 'Tristana', 'Ivern',\n",
       "       'Zilean', 'Seraphine', 'Blitzcrank', 'Vladimir', 'Corki', 'Samira',\n",
       "       'Renata', 'Jax', 'Gwen', 'Cassiopeia', 'Kaisa', 'Lulu', 'Kayle',\n",
       "       'Diana', 'Yasuo', 'Janna', 'Irelia', 'Fizz', 'Zeri', 'Nami',\n",
       "       'Udyr', 'Vex', 'Pyke', 'Karma', 'Trundle', 'Riven', 'Viego',\n",
       "       'Thresh', 'Hecarim', 'Lux', 'Garen', 'Karthus', 'Jayce',\n",
       "       'Aphelios', 'Teemo', 'Talon', 'Yone', 'Alistar', 'JarvanIV',\n",
       "       'XinZhao', 'Leblanc', 'Malzahar', 'Orianna', 'Ezreal', 'Syndra',\n",
       "       'Nautilus', 'Chogath', 'Rumble', 'Sylas', 'Neeko', 'Leona', 'Sion',\n",
       "       'LeeSin', 'Aatrox', 'Evelynn', 'Sett', 'Twitch', 'Rakan',\n",
       "       'Mordekaiser', 'Nunu', 'Zoe', 'Caitlyn', 'Vayne', 'Tryndamere',\n",
       "       'Draven', 'KogMaw', 'Illaoi', 'Shaco', 'Zed', 'Gragas', 'Akshan',\n",
       "       'Graves', 'Xerath', 'Lucian', 'TahmKench', 'Qiyana', 'Rengar',\n",
       "       'Zac', 'Elise', 'Nasus', 'MissFortune', 'Camille', 'Katarina',\n",
       "       'Xayah', 'Nidalee', 'Kalista', 'Volibear', 'Soraka', 'Gangplank',\n",
       "       'Kayn', 'MasterYi', 'Veigar', 'Amumu', 'DrMundo', 'Yuumi', 'Urgot',\n",
       "       'Poppy', 'Nocturne', 'Kled', 'TwistedFate', 'Lissandra', 'Ryze',\n",
       "       'Galio', 'RekSai', 'Ziggs', 'Velkoz', 'Fiora', 'Rammus',\n",
       "       'MonkeyKing', 'Olaf', 'FiddleSticks', 'Renekton', 'Ekko', 'Sivir',\n",
       "       'Taliyah', 'Darius', 'Sejuani', 'Malphite', 'Ashe', 'Braum',\n",
       "       'Singed', 'Brand', 'Skarner', 'Ornn', 'Azir', 'Shen', 'Anivia',\n",
       "       'Pantheon', 'Sona', 'Lillia', 'Shyvana', 'Varus', 'Quinn',\n",
       "       'Warwick', 'Morgana', 'Annie', 'Rell', 'Yorick', 'Heimerdinger',\n",
       "       'Maokai', 'Taric', 'Swain', 'AurelionSol', 'Zyra', 'Vi'],\n",
       "      dtype=object)"
      ]
     },
     "execution_count": 20,
     "metadata": {},
     "output_type": "execute_result"
    }
   ],
   "source": [
    "pd.unique(soloq.championName)"
   ]
  },
  {
   "cell_type": "code",
   "execution_count": 25,
   "metadata": {},
   "outputs": [
    {
     "ename": "TypeError",
     "evalue": "list indices must be integers or slices, not float",
     "output_type": "error",
     "traceback": [
      "\u001b[1;31m---------------------------------------------------------------------------\u001b[0m",
      "\u001b[1;31mTypeError\u001b[0m                                 Traceback (most recent call last)",
      "\u001b[1;32m<ipython-input-25-5dd9bf759631>\u001b[0m in \u001b[0;36m<module>\u001b[1;34m\u001b[0m\n\u001b[0;32m      2\u001b[0m     \u001b[0membedding\u001b[0m\u001b[1;33m[\u001b[0m\u001b[1;33m:\u001b[0m\u001b[1;33m,\u001b[0m \u001b[1;36m0\u001b[0m\u001b[1;33m]\u001b[0m\u001b[1;33m,\u001b[0m\u001b[1;33m\u001b[0m\u001b[1;33m\u001b[0m\u001b[0m\n\u001b[0;32m      3\u001b[0m     \u001b[0membedding\u001b[0m\u001b[1;33m[\u001b[0m\u001b[1;33m:\u001b[0m\u001b[1;33m,\u001b[0m \u001b[1;36m1\u001b[0m\u001b[1;33m]\u001b[0m\u001b[1;33m,\u001b[0m\u001b[1;33m\u001b[0m\u001b[1;33m\u001b[0m\u001b[0m\n\u001b[1;32m----> 4\u001b[1;33m     \u001b[0mc\u001b[0m\u001b[1;33m=\u001b[0m\u001b[1;33m[\u001b[0m\u001b[0msns\u001b[0m\u001b[1;33m.\u001b[0m\u001b[0mcolor_palette\u001b[0m\u001b[1;33m(\u001b[0m\u001b[1;33m)\u001b[0m\u001b[1;33m[\u001b[0m\u001b[0mx\u001b[0m\u001b[1;33m]\u001b[0m \u001b[1;32mfor\u001b[0m \u001b[0mx\u001b[0m \u001b[1;32min\u001b[0m \u001b[0msoloq\u001b[0m\u001b[1;33m.\u001b[0m\u001b[0mchampionName\u001b[0m\u001b[1;33m.\u001b[0m\u001b[0mmap\u001b[0m\u001b[1;33m(\u001b[0m\u001b[1;33m{\u001b[0m\u001b[1;34m\"Illaoi\"\u001b[0m\u001b[1;33m:\u001b[0m\u001b[1;36m0\u001b[0m\u001b[1;33m,\u001b[0m \u001b[1;34m\"KogMaw\"\u001b[0m\u001b[1;33m:\u001b[0m\u001b[1;36m1\u001b[0m\u001b[1;33m}\u001b[0m\u001b[1;33m)\u001b[0m\u001b[1;33m]\u001b[0m\u001b[1;33m\u001b[0m\u001b[1;33m\u001b[0m\u001b[0m\n\u001b[0m\u001b[0;32m      5\u001b[0m )\n\u001b[0;32m      6\u001b[0m \u001b[0mplt\u001b[0m\u001b[1;33m.\u001b[0m\u001b[0mgca\u001b[0m\u001b[1;33m(\u001b[0m\u001b[1;33m)\u001b[0m\u001b[1;33m.\u001b[0m\u001b[0mset_aspect\u001b[0m\u001b[1;33m(\u001b[0m\u001b[1;34m'equal'\u001b[0m\u001b[1;33m,\u001b[0m \u001b[1;34m'datalim'\u001b[0m\u001b[1;33m)\u001b[0m\u001b[1;33m\u001b[0m\u001b[1;33m\u001b[0m\u001b[0m\n",
      "\u001b[1;32m<ipython-input-25-5dd9bf759631>\u001b[0m in \u001b[0;36m<listcomp>\u001b[1;34m(.0)\u001b[0m\n\u001b[0;32m      2\u001b[0m     \u001b[0membedding\u001b[0m\u001b[1;33m[\u001b[0m\u001b[1;33m:\u001b[0m\u001b[1;33m,\u001b[0m \u001b[1;36m0\u001b[0m\u001b[1;33m]\u001b[0m\u001b[1;33m,\u001b[0m\u001b[1;33m\u001b[0m\u001b[1;33m\u001b[0m\u001b[0m\n\u001b[0;32m      3\u001b[0m     \u001b[0membedding\u001b[0m\u001b[1;33m[\u001b[0m\u001b[1;33m:\u001b[0m\u001b[1;33m,\u001b[0m \u001b[1;36m1\u001b[0m\u001b[1;33m]\u001b[0m\u001b[1;33m,\u001b[0m\u001b[1;33m\u001b[0m\u001b[1;33m\u001b[0m\u001b[0m\n\u001b[1;32m----> 4\u001b[1;33m     \u001b[0mc\u001b[0m\u001b[1;33m=\u001b[0m\u001b[1;33m[\u001b[0m\u001b[0msns\u001b[0m\u001b[1;33m.\u001b[0m\u001b[0mcolor_palette\u001b[0m\u001b[1;33m(\u001b[0m\u001b[1;33m)\u001b[0m\u001b[1;33m[\u001b[0m\u001b[0mx\u001b[0m\u001b[1;33m]\u001b[0m \u001b[1;32mfor\u001b[0m \u001b[0mx\u001b[0m \u001b[1;32min\u001b[0m \u001b[0msoloq\u001b[0m\u001b[1;33m.\u001b[0m\u001b[0mchampionName\u001b[0m\u001b[1;33m.\u001b[0m\u001b[0mmap\u001b[0m\u001b[1;33m(\u001b[0m\u001b[1;33m{\u001b[0m\u001b[1;34m\"Illaoi\"\u001b[0m\u001b[1;33m:\u001b[0m\u001b[1;36m0\u001b[0m\u001b[1;33m,\u001b[0m \u001b[1;34m\"KogMaw\"\u001b[0m\u001b[1;33m:\u001b[0m\u001b[1;36m1\u001b[0m\u001b[1;33m}\u001b[0m\u001b[1;33m)\u001b[0m\u001b[1;33m]\u001b[0m\u001b[1;33m\u001b[0m\u001b[1;33m\u001b[0m\u001b[0m\n\u001b[0m\u001b[0;32m      5\u001b[0m )\n\u001b[0;32m      6\u001b[0m \u001b[0mplt\u001b[0m\u001b[1;33m.\u001b[0m\u001b[0mgca\u001b[0m\u001b[1;33m(\u001b[0m\u001b[1;33m)\u001b[0m\u001b[1;33m.\u001b[0m\u001b[0mset_aspect\u001b[0m\u001b[1;33m(\u001b[0m\u001b[1;34m'equal'\u001b[0m\u001b[1;33m,\u001b[0m \u001b[1;34m'datalim'\u001b[0m\u001b[1;33m)\u001b[0m\u001b[1;33m\u001b[0m\u001b[1;33m\u001b[0m\u001b[0m\n",
      "\u001b[1;31mTypeError\u001b[0m: list indices must be integers or slices, not float"
     ]
    }
   ],
   "source": [
    "plt.scatter(\n",
    "    embedding[:, 0],\n",
    "    embedding[:, 1],\n",
    "    c=[sns.color_palette()[x] for x in soloq.championName.map({\"Illaoi\":0, \"KogMaw\":1})]\n",
    ")\n",
    "plt.gca().set_aspect('equal', 'datalim')\n",
    "plt.title('UMAP projection of the Penguin dataset', fontsize=24)"
   ]
  }
 ],
 "metadata": {
  "interpreter": {
   "hash": "93afff656ad1ea8fd19841ebb47c2926a5eb792e43b0b774781010bd6e2ff18d"
  },
  "kernelspec": {
   "display_name": "Python 3.8.7 64-bit",
   "language": "python",
   "name": "python3"
  },
  "language_info": {
   "codemirror_mode": {
    "name": "ipython",
    "version": 3
   },
   "file_extension": ".py",
   "mimetype": "text/x-python",
   "name": "python",
   "nbconvert_exporter": "python",
   "pygments_lexer": "ipython3",
   "version": "3.8.7"
  },
  "orig_nbformat": 4
 },
 "nbformat": 4,
 "nbformat_minor": 2
}
