{
 "cells": [
  {
   "cell_type": "code",
   "execution_count": 1,
   "id": "accepting-crash",
   "metadata": {},
   "outputs": [],
   "source": [
    "from sklearn.datasets import load_digits\n",
    "from sklearn.model_selection import train_test_split\n",
    "from sklearn.decomposition import PCA\n",
    "from sklearn.manifold import TSNE\n",
    "from sklearn.preprocessing import StandardScaler\n",
    "from sklearn.cluster import KMeans\n",
    "from sklearn.metrics import silhouette_samples, silhouette_score\n",
    "import umap.umap_ as umap\n",
    "\n",
    "import numpy as np\n",
    "import matplotlib.pyplot as plt\n",
    "import seaborn as sns\n",
    "import pandas as pd\n",
    "import warnings\n",
    "import urllib.request\n",
    "from PIL import Image\n",
    "%matplotlib inline\n",
    "\n",
    "warnings.filterwarnings(\"ignore\")\n",
    "\n",
    "sns.set(style='white', context='notebook', rc={'figure.figsize':(14,10)})"
   ]
  },
  {
   "cell_type": "code",
   "execution_count": 2,
   "id": "young-weather",
   "metadata": {},
   "outputs": [],
   "source": [
    "soloq_games_euw = pd.read_csv(\"../data/soloq/Europe_stats.csv\")\n",
    "soloq_games_kr = pd.read_csv(\"../data/soloq/Asia_stats.csv\")\n",
    "\n",
    "soloq_games = pd.concat([soloq_games_euw, soloq_games_kr])\n",
    "\n",
    "soloq_games = soloq_games.dropna()\n",
    "# delete games with < 15 mins\n",
    "soloq_games = soloq_games[soloq_games['gameEndedInEarlySurrender'] == False]\n",
    "# creates a patch column\n",
    "soloq_games['patch'] = soloq_games.apply(lambda x: str(x['gameVersion'].split('.')[0] + '.' + x['gameVersion'].split('.')[1]), axis=1 )\n",
    "\n",
    "relevant_cols = [\n",
    "    \"patch\", \"teamPosition\", \"championId\", \"championName\", \"gameDuration\", \"win\",\n",
    "    \"neutralMinionsKilled\", \"totalMinionsKilled\", \"cs_diff_at_15\",\n",
    "    \"champExperience\", \"xp_diff\", \"xp_diff_per_min\", \"xp_per_min_3_15\",\n",
    "    \"damageDealtToBuildings\", \"damageDealtToObjectives\", \"damageDealtToTurrets\", \"damageSelfMitigated\", \"magicDamageDealt\", \"magicDamageDealtToChampions\", \"magicDamageTaken\",\n",
    "    \"physicalDamageDealt\", \"physicalDamageDealtToChampions\", \"physicalDamageTaken\", \"totalDamageDealt\", \"totalDamageDealtToChampions\", \"totalDamageShieldedOnTeammates\",\n",
    "    \"totalDamageTaken\", \"totalHeal\", \"totalHealsOnTeammates\", \"totalUnitsHealed\", \"trueDamageDealt\", \"trueDamageDealtToChampions\", \"trueDamageTaken\",\n",
    "    \"totalTimeCCDealt\", \"timeCCingOthers\", \"totalTimeSpentDead\", \"dmg_per_minute_diff\", \"dmg_per_minute_diff_15\", \"kills\", \"deaths\", \"assists\", \"kill_share\", \"kill_participation\",\n",
    "    \"doubleKills\", \"tripleKills\", \"quadraKills\", \"pentaKills\", \"firstBloodAssist\", \"firstBloodKill\", \"killingSprees\", \"largestKillingSpree\", \"largestMultiKill\",\n",
    "    \"goldEarned\", \"goldSpent\", \"gold_share\", \"gold_earned_per_min\", \"gold_diff_15\", \"gold_10k_time\",\n",
    "    \"inhibitorKills\", \"inhibitorTakedowns\", \"inhibitorsLost\", \n",
    "    \"itemsPurchased\", \"consumablesPurchased\",\n",
    "    \"largestCriticalStrike\", \"longestTimeSpentLiving\",\n",
    "    \"firstTowerAssist\", \"firstTowerKill\", \"objectivesStolen\", \"objectivesStolenAssists\", \"turretKills\", \"turretTakedowns\", \"turretsLost\",\n",
    "    \"sightWardsBoughtInGame\", \"visionScore\", \"visionWardsBoughtInGame\", \"detectorWardsPlaced\", \"wardsKilled\", \"wardsPlaced\",\n",
    "    \"spell1Casts\", \"spell2Casts\", \"spell3Casts\", \"spell4Casts\", \"summoner1Casts\", \"summoner2Casts\",\n",
    "    \"lane_proximity\", \"jungle_proximity\", \"percent_mid_lane\", \"percent_side_lanes\", \"forward_percentage\", \"counter_jungle_time_percentage\",\n",
    "]\n",
    "\n",
    "\n",
    "# select only relevant cols\n",
    "soloq = soloq_games[ relevant_cols ]\n"
   ]
  },
  {
   "cell_type": "code",
   "execution_count": 3,
   "id": "local-friend",
   "metadata": {},
   "outputs": [],
   "source": [
    "def clean_data(df, role = \"None\", patch = \"All\", stratified_sampling = False):\n",
    "    games_df = df\n",
    "    if patch != \"All\":\n",
    "        games_df = games_df[ games_df['patch'] == patch]\n",
    "    else:\n",
    "        games_df = games_df\n",
    "        \n",
    "    if role != \"None\":\n",
    "        games_df = games_df[ games_df['teamPosition'] == role ]\n",
    "    else:\n",
    "        games_df = games_df\n",
    "    # list of champions with more than 100 games played\n",
    "    top_champs = [i for i, x in games_df.championName.value_counts().to_dict().items() if x > 100]\n",
    "    games_df = games_df[games_df['championName'].isin(top_champs)]\n",
    "    if stratified_sampling:\n",
    "        games_df = games_df.groupby(by='championName').apply(lambda x: x.sample(n=100)).reset_index(level=1, drop=True).drop(['championName'], axis=1).reset_index()\n",
    "    try:\n",
    "        games_df = games_df.drop(['teamPosition'], axis=1)\n",
    "        games_df = games_df.drop(['patch'], axis=1)\n",
    "        games_df = games_df.drop(['Unnamed: 0'], axis=1)\n",
    "    except Exception as e:\n",
    "        print(e)\n",
    "    return games_df"
   ]
  },
  {
   "cell_type": "code",
   "execution_count": 4,
   "id": "handmade-loading",
   "metadata": {},
   "outputs": [
    {
     "name": "stdout",
     "output_type": "stream",
     "text": [
      "\"['Unnamed: 0'] not found in axis\"\n",
      "\"['Unnamed: 0'] not found in axis\"\n",
      "\"['Unnamed: 0'] not found in axis\"\n",
      "\"['Unnamed: 0'] not found in axis\"\n",
      "\"['Unnamed: 0'] not found in axis\"\n",
      "\"['Unnamed: 0'] not found in axis\"\n"
     ]
    }
   ],
   "source": [
    "general_soloq = clean_data(soloq, role=\"None\", patch=\"12.5\", stratified_sampling = False)\n",
    "\n",
    "top_soloq = clean_data(soloq, role=\"TOP\", patch=\"12.5\", stratified_sampling = False)\n",
    "jungle_soloq = clean_data(soloq, role=\"JUNGLE\", patch=\"12.5\", stratified_sampling = False)\n",
    "mid_soloq = clean_data(soloq, role=\"MIDDLE\", patch=\"12.5\", stratified_sampling = False)\n",
    "bottom_soloq = clean_data(soloq, role=\"BOTTOM\", patch=\"12.5\", stratified_sampling = False)\n",
    "utility_soloq = clean_data(soloq, role=\"UTILITY\", patch=\"12.5\", stratified_sampling = False)"
   ]
  },
  {
   "cell_type": "code",
   "execution_count": 8,
   "id": "incredible-candle",
   "metadata": {},
   "outputs": [],
   "source": [
    "general_soloq.to_csv(\"../data/soloq/clean/general_soloq.csv\")\n",
    "top_soloq.to_csv(\"../data/soloq/clean/top_soloq.csv\")\n",
    "jungle_soloq.to_csv(\"../data/soloq/clean/jungle_soloq.csv\")\n",
    "mid_soloq.to_csv(\"../data/soloq/clean/mid_soloq.csv\")\n",
    "bottom_soloq.to_csv(\"../data/soloq/clean/bottom_soloq.csv\")\n",
    "utility_soloq.to_csv(\"../data/soloq/clean/utility_soloq.csv\")"
   ]
  }
 ],
 "metadata": {
  "kernelspec": {
   "display_name": "Python 3",
   "language": "python",
   "name": "python3"
  },
  "language_info": {
   "codemirror_mode": {
    "name": "ipython",
    "version": 3
   },
   "file_extension": ".py",
   "mimetype": "text/x-python",
   "name": "python",
   "nbconvert_exporter": "python",
   "pygments_lexer": "ipython3",
   "version": "3.8.7"
  }
 },
 "nbformat": 4,
 "nbformat_minor": 5
}
